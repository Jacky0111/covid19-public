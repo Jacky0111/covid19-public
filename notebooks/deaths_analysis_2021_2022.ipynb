{
 "cells": [
  {
   "cell_type": "code",
   "execution_count": 16,
   "outputs": [],
   "source": [
    "import pandas as pd"
   ],
   "metadata": {
    "collapsed": false,
    "pycharm": {
     "name": "#%%\n"
    }
   }
  },
  {
   "cell_type": "code",
   "execution_count": 7,
   "metadata": {
    "collapsed": true
   },
   "outputs": [],
   "source": [
    "# Read the deaths_state file\n",
    "df = pd.read_csv(r'C:\\Users\\con823.TMLPC18109\\Documents\\GitHub\\Covid19-Public\\epidemic\\deaths_state.csv')\n",
    "\n",
    "# Convert the date column to datetime format and extract year\n",
    "df['year'] = pd.to_datetime(df['date']).dt.year\n",
    "\n",
    "# Separate out 2021 and 2022 data into two separate DataFrames\n",
    "df_2021 = df[df['year'] == 2021]\n",
    "df_2022 = df[df['year'] == 2022]\n",
    "\n",
    "# Sum up the deaths_new_dod column by state for 2021\n",
    "df_by_state_2021 = df_2021.groupby('state')['deaths_new_dod'].sum().reset_index()\n",
    "\n",
    "# Sum up the deaths_new_dod column by state for 2022\n",
    "df_by_state_2022 = df_2022.groupby('state')['deaths_new_dod'].sum().reset_index()"
   ]
  },
  {
   "cell_type": "code",
   "execution_count": 14,
   "outputs": [
    {
     "data": {
      "text/plain": "                state  deaths_new_dod\n0               Johor            3830\n1               Kedah            2138\n2            Kelantan            1241\n3              Melaka             951\n4     Negeri Sembilan            1308\n5              Pahang             767\n6               Perak            1384\n7              Perlis             135\n8        Pulau Pinang            1750\n9               Sabah            2514\n10            Sarawak            1596\n11           Selangor            9915\n12         Terengganu             716\n13  W.P. Kuala Lumpur            2655\n14        W.P. Labuan             143\n15     W.P. Putrajaya              21",
      "text/html": "<div>\n<style scoped>\n    .dataframe tbody tr th:only-of-type {\n        vertical-align: middle;\n    }\n\n    .dataframe tbody tr th {\n        vertical-align: top;\n    }\n\n    .dataframe thead th {\n        text-align: right;\n    }\n</style>\n<table border=\"1\" class=\"dataframe\">\n  <thead>\n    <tr style=\"text-align: right;\">\n      <th></th>\n      <th>state</th>\n      <th>deaths_new_dod</th>\n    </tr>\n  </thead>\n  <tbody>\n    <tr>\n      <th>0</th>\n      <td>Johor</td>\n      <td>3830</td>\n    </tr>\n    <tr>\n      <th>1</th>\n      <td>Kedah</td>\n      <td>2138</td>\n    </tr>\n    <tr>\n      <th>2</th>\n      <td>Kelantan</td>\n      <td>1241</td>\n    </tr>\n    <tr>\n      <th>3</th>\n      <td>Melaka</td>\n      <td>951</td>\n    </tr>\n    <tr>\n      <th>4</th>\n      <td>Negeri Sembilan</td>\n      <td>1308</td>\n    </tr>\n    <tr>\n      <th>5</th>\n      <td>Pahang</td>\n      <td>767</td>\n    </tr>\n    <tr>\n      <th>6</th>\n      <td>Perak</td>\n      <td>1384</td>\n    </tr>\n    <tr>\n      <th>7</th>\n      <td>Perlis</td>\n      <td>135</td>\n    </tr>\n    <tr>\n      <th>8</th>\n      <td>Pulau Pinang</td>\n      <td>1750</td>\n    </tr>\n    <tr>\n      <th>9</th>\n      <td>Sabah</td>\n      <td>2514</td>\n    </tr>\n    <tr>\n      <th>10</th>\n      <td>Sarawak</td>\n      <td>1596</td>\n    </tr>\n    <tr>\n      <th>11</th>\n      <td>Selangor</td>\n      <td>9915</td>\n    </tr>\n    <tr>\n      <th>12</th>\n      <td>Terengganu</td>\n      <td>716</td>\n    </tr>\n    <tr>\n      <th>13</th>\n      <td>W.P. Kuala Lumpur</td>\n      <td>2655</td>\n    </tr>\n    <tr>\n      <th>14</th>\n      <td>W.P. Labuan</td>\n      <td>143</td>\n    </tr>\n    <tr>\n      <th>15</th>\n      <td>W.P. Putrajaya</td>\n      <td>21</td>\n    </tr>\n  </tbody>\n</table>\n</div>"
     },
     "execution_count": 14,
     "metadata": {},
     "output_type": "execute_result"
    }
   ],
   "source": [
    "df_by_state_2021"
   ],
   "metadata": {
    "collapsed": false,
    "pycharm": {
     "name": "#%%\n"
    }
   }
  },
  {
   "cell_type": "code",
   "execution_count": 15,
   "outputs": [
    {
     "data": {
      "text/plain": "                state  deaths_new_dod\n0               Johor             831\n1               Kedah             583\n2            Kelantan             174\n3              Melaka             241\n4     Negeri Sembilan             211\n5              Pahang             256\n6               Perak             718\n7              Perlis              60\n8        Pulau Pinang             302\n9               Sabah             412\n10            Sarawak             167\n11           Selangor             982\n12         Terengganu             181\n13  W.P. Kuala Lumpur             180\n14        W.P. Labuan               6\n15     W.P. Putrajaya               7",
      "text/html": "<div>\n<style scoped>\n    .dataframe tbody tr th:only-of-type {\n        vertical-align: middle;\n    }\n\n    .dataframe tbody tr th {\n        vertical-align: top;\n    }\n\n    .dataframe thead th {\n        text-align: right;\n    }\n</style>\n<table border=\"1\" class=\"dataframe\">\n  <thead>\n    <tr style=\"text-align: right;\">\n      <th></th>\n      <th>state</th>\n      <th>deaths_new_dod</th>\n    </tr>\n  </thead>\n  <tbody>\n    <tr>\n      <th>0</th>\n      <td>Johor</td>\n      <td>831</td>\n    </tr>\n    <tr>\n      <th>1</th>\n      <td>Kedah</td>\n      <td>583</td>\n    </tr>\n    <tr>\n      <th>2</th>\n      <td>Kelantan</td>\n      <td>174</td>\n    </tr>\n    <tr>\n      <th>3</th>\n      <td>Melaka</td>\n      <td>241</td>\n    </tr>\n    <tr>\n      <th>4</th>\n      <td>Negeri Sembilan</td>\n      <td>211</td>\n    </tr>\n    <tr>\n      <th>5</th>\n      <td>Pahang</td>\n      <td>256</td>\n    </tr>\n    <tr>\n      <th>6</th>\n      <td>Perak</td>\n      <td>718</td>\n    </tr>\n    <tr>\n      <th>7</th>\n      <td>Perlis</td>\n      <td>60</td>\n    </tr>\n    <tr>\n      <th>8</th>\n      <td>Pulau Pinang</td>\n      <td>302</td>\n    </tr>\n    <tr>\n      <th>9</th>\n      <td>Sabah</td>\n      <td>412</td>\n    </tr>\n    <tr>\n      <th>10</th>\n      <td>Sarawak</td>\n      <td>167</td>\n    </tr>\n    <tr>\n      <th>11</th>\n      <td>Selangor</td>\n      <td>982</td>\n    </tr>\n    <tr>\n      <th>12</th>\n      <td>Terengganu</td>\n      <td>181</td>\n    </tr>\n    <tr>\n      <th>13</th>\n      <td>W.P. Kuala Lumpur</td>\n      <td>180</td>\n    </tr>\n    <tr>\n      <th>14</th>\n      <td>W.P. Labuan</td>\n      <td>6</td>\n    </tr>\n    <tr>\n      <th>15</th>\n      <td>W.P. Putrajaya</td>\n      <td>7</td>\n    </tr>\n  </tbody>\n</table>\n</div>"
     },
     "execution_count": 15,
     "metadata": {},
     "output_type": "execute_result"
    }
   ],
   "source": [
    "df_by_state_2022"
   ],
   "metadata": {
    "collapsed": false,
    "pycharm": {
     "name": "#%%\n"
    }
   }
  },
  {
   "cell_type": "code",
   "execution_count": null,
   "outputs": [],
   "source": [],
   "metadata": {
    "collapsed": false,
    "pycharm": {
     "name": "#%%\n"
    }
   }
  },
  {
   "cell_type": "code",
   "execution_count": null,
   "outputs": [],
   "source": [],
   "metadata": {
    "collapsed": false,
    "pycharm": {
     "name": "#%%\n"
    }
   }
  },
  {
   "cell_type": "code",
   "execution_count": null,
   "outputs": [],
   "source": [],
   "metadata": {
    "collapsed": false,
    "pycharm": {
     "name": "#%%\n"
    }
   }
  },
  {
   "cell_type": "code",
   "execution_count": null,
   "outputs": [],
   "source": [],
   "metadata": {
    "collapsed": false,
    "pycharm": {
     "name": "#%%\n"
    }
   }
  },
  {
   "cell_type": "code",
   "execution_count": null,
   "outputs": [],
   "source": [],
   "metadata": {
    "collapsed": false,
    "pycharm": {
     "name": "#%%\n"
    }
   }
  },
  {
   "cell_type": "code",
   "execution_count": null,
   "outputs": [],
   "source": [],
   "metadata": {
    "collapsed": false,
    "pycharm": {
     "name": "#%%\n"
    }
   }
  },
  {
   "cell_type": "code",
   "execution_count": null,
   "outputs": [],
   "source": [],
   "metadata": {
    "collapsed": false,
    "pycharm": {
     "name": "#%%\n"
    }
   }
  }
 ],
 "metadata": {
  "kernelspec": {
   "display_name": "Python 3",
   "language": "python",
   "name": "python3"
  },
  "language_info": {
   "codemirror_mode": {
    "name": "ipython",
    "version": 2
   },
   "file_extension": ".py",
   "mimetype": "text/x-python",
   "name": "python",
   "nbconvert_exporter": "python",
   "pygments_lexer": "ipython2",
   "version": "2.7.6"
  }
 },
 "nbformat": 4,
 "nbformat_minor": 0
}