{
 "cells": [
  {
   "cell_type": "code",
   "execution_count": 1,
   "id": "22b06768",
   "metadata": {},
   "outputs": [],
   "source": [
    "import numpy as np\n",
    "import pandas as pd\n",
    "from datetime import date, timedelta\n",
    "import matplotlib.pyplot as plt\n",
    "import matplotlib.dates as mdates\n",
    "\n",
    "linelist_deaths = 'https://raw.githubusercontent.com/MoH-Malaysia/covid19-public/main/epidemic/linelist/linelist_deaths.csv'\n",
    "vax_agg = 'https://raw.githubusercontent.com/MoH-Malaysia/covid19-public/main/vaccination/vax_malaysia.csv'\n",
    "\n",
    "date_min = date(2021,5,24) # Phase 2 vax started 19 Apr; 2nd dose on 10 May; fully vax on 24 May\n",
    "date_max = date.today() - timedelta(8) # most recent 7 days incomplete\n",
    "data_range = 'data from ' + date_min.strftime('%d-%b') + ' to ' + date_max.strftime('%d-%b')\n",
    "total_adults = 23966637 # same as other notebooks"
   ]
  },
  {
   "cell_type": "code",
   "execution_count": 4,
   "id": "35140c24",
   "metadata": {},
   "outputs": [
    {
     "ename": "TypeError",
     "evalue": "unsupported operand type(s) for +: 'datetime.date' and 'datetime.date'",
     "output_type": "error",
     "traceback": [
      "\u001B[1;31m---------------------------------------------------------------------------\u001B[0m",
      "\u001B[1;31mTypeError\u001B[0m                                 Traceback (most recent call last)",
      "Cell \u001B[1;32mIn[4], line 25\u001B[0m\n\u001B[0;32m     22\u001B[0m df[\u001B[38;5;124m'\u001B[39m\u001B[38;5;124mdeaths\u001B[39m\u001B[38;5;124m'\u001B[39m] \u001B[38;5;241m=\u001B[39m \u001B[38;5;241m1\u001B[39m\n\u001B[0;32m     24\u001B[0m df\u001B[38;5;241m.\u001B[39mdate \u001B[38;5;241m=\u001B[39m pd\u001B[38;5;241m.\u001B[39mto_datetime(df\u001B[38;5;241m.\u001B[39mdate)\n\u001B[1;32m---> 25\u001B[0m df \u001B[38;5;241m=\u001B[39m \u001B[43mdf\u001B[49m\u001B[38;5;241;43m.\u001B[39;49m\u001B[43mgroupby\u001B[49m\u001B[43m(\u001B[49m\u001B[43m[\u001B[49m\u001B[43mpd\u001B[49m\u001B[38;5;241;43m.\u001B[39;49m\u001B[43mGrouper\u001B[49m\u001B[43m(\u001B[49m\u001B[43mkey\u001B[49m\u001B[38;5;241;43m=\u001B[39;49m\u001B[38;5;124;43m'\u001B[39;49m\u001B[38;5;124;43mdate\u001B[39;49m\u001B[38;5;124;43m'\u001B[39;49m\u001B[43m)\u001B[49m\u001B[43m,\u001B[49m\u001B[43m \u001B[49m\u001B[38;5;124;43m'\u001B[39;49m\u001B[38;5;124;43mstatus\u001B[39;49m\u001B[38;5;124;43m'\u001B[39;49m\u001B[43m]\u001B[49m\u001B[43m)\u001B[49m\u001B[38;5;241;43m.\u001B[39;49m\u001B[43msum\u001B[49m\u001B[43m(\u001B[49m\u001B[43m)\u001B[49m \\\n\u001B[0;32m     26\u001B[0m                 \u001B[38;5;241m.\u001B[39munstack(fill_value\u001B[38;5;241m=\u001B[39m\u001B[38;5;241m0\u001B[39m) \\\n\u001B[0;32m     27\u001B[0m                 \u001B[38;5;241m.\u001B[39masfreq(\u001B[38;5;124m'\u001B[39m\u001B[38;5;124mD\u001B[39m\u001B[38;5;124m'\u001B[39m,fill_value\u001B[38;5;241m=\u001B[39m\u001B[38;5;241m0\u001B[39m) \\\n\u001B[0;32m     28\u001B[0m                 \u001B[38;5;241m.\u001B[39mstack() \\\n\u001B[0;32m     29\u001B[0m                 \u001B[38;5;241m.\u001B[39mreset_index()\n\u001B[0;32m     31\u001B[0m \u001B[38;5;66;03m# df = df.groupby(['date', 'status']).sum() \\\u001B[39;00m\n\u001B[0;32m     32\u001B[0m \u001B[38;5;66;03m#                 .unstack(fill_value=0) \\\u001B[39;00m\n\u001B[0;32m     33\u001B[0m \u001B[38;5;66;03m#                 .asfreq('D',fill_value=0) \\\u001B[39;00m\n\u001B[0;32m     34\u001B[0m \u001B[38;5;66;03m#                 .stack() \\\u001B[39;00m\n\u001B[0;32m     35\u001B[0m \u001B[38;5;66;03m#                 .reset_index() # Typically, unstack/stack suffices, but this is robust to having dates with no deaths\u001B[39;00m\n\u001B[0;32m     37\u001B[0m df\u001B[38;5;241m.\u001B[39mdate \u001B[38;5;241m=\u001B[39m df\u001B[38;5;241m.\u001B[39mdate\u001B[38;5;241m.\u001B[39mdt\u001B[38;5;241m.\u001B[39mdate\n",
      "File \u001B[1;32mc:\\users\\con823.tmlpc18109\\documents\\github\\covid19-public\\venv\\lib\\site-packages\\pandas\\core\\groupby\\groupby.py:2263\u001B[0m, in \u001B[0;36mGroupBy.sum\u001B[1;34m(self, numeric_only, min_count, engine, engine_kwargs)\u001B[0m\n\u001B[0;32m   2258\u001B[0m \u001B[38;5;28;01melse\u001B[39;00m:\n\u001B[0;32m   2259\u001B[0m     \u001B[38;5;66;03m# If we are grouping on categoricals we want unobserved categories to\u001B[39;00m\n\u001B[0;32m   2260\u001B[0m     \u001B[38;5;66;03m# return zero, rather than the default of NaN which the reindexing in\u001B[39;00m\n\u001B[0;32m   2261\u001B[0m     \u001B[38;5;66;03m# _agg_general() returns. GH #31422\u001B[39;00m\n\u001B[0;32m   2262\u001B[0m     \u001B[38;5;28;01mwith\u001B[39;00m com\u001B[38;5;241m.\u001B[39mtemp_setattr(\u001B[38;5;28mself\u001B[39m, \u001B[38;5;124m\"\u001B[39m\u001B[38;5;124mobserved\u001B[39m\u001B[38;5;124m\"\u001B[39m, \u001B[38;5;28;01mTrue\u001B[39;00m):\n\u001B[1;32m-> 2263\u001B[0m         result \u001B[38;5;241m=\u001B[39m \u001B[38;5;28;43mself\u001B[39;49m\u001B[38;5;241;43m.\u001B[39;49m\u001B[43m_agg_general\u001B[49m\u001B[43m(\u001B[49m\n\u001B[0;32m   2264\u001B[0m \u001B[43m            \u001B[49m\u001B[43mnumeric_only\u001B[49m\u001B[38;5;241;43m=\u001B[39;49m\u001B[43mnumeric_only\u001B[49m\u001B[43m,\u001B[49m\n\u001B[0;32m   2265\u001B[0m \u001B[43m            \u001B[49m\u001B[43mmin_count\u001B[49m\u001B[38;5;241;43m=\u001B[39;49m\u001B[43mmin_count\u001B[49m\u001B[43m,\u001B[49m\n\u001B[0;32m   2266\u001B[0m \u001B[43m            \u001B[49m\u001B[43malias\u001B[49m\u001B[38;5;241;43m=\u001B[39;49m\u001B[38;5;124;43m\"\u001B[39;49m\u001B[38;5;124;43msum\u001B[39;49m\u001B[38;5;124;43m\"\u001B[39;49m\u001B[43m,\u001B[49m\n\u001B[0;32m   2267\u001B[0m \u001B[43m            \u001B[49m\u001B[43mnpfunc\u001B[49m\u001B[38;5;241;43m=\u001B[39;49m\u001B[43mnp\u001B[49m\u001B[38;5;241;43m.\u001B[39;49m\u001B[43msum\u001B[49m\u001B[43m,\u001B[49m\n\u001B[0;32m   2268\u001B[0m \u001B[43m        \u001B[49m\u001B[43m)\u001B[49m\n\u001B[0;32m   2270\u001B[0m     \u001B[38;5;28;01mreturn\u001B[39;00m \u001B[38;5;28mself\u001B[39m\u001B[38;5;241m.\u001B[39m_reindex_output(result, fill_value\u001B[38;5;241m=\u001B[39m\u001B[38;5;241m0\u001B[39m)\n",
      "File \u001B[1;32mc:\\users\\con823.tmlpc18109\\documents\\github\\covid19-public\\venv\\lib\\site-packages\\pandas\\core\\groupby\\groupby.py:1422\u001B[0m, in \u001B[0;36mGroupBy._agg_general\u001B[1;34m(self, numeric_only, min_count, alias, npfunc)\u001B[0m\n\u001B[0;32m   1413\u001B[0m \u001B[38;5;129m@final\u001B[39m\n\u001B[0;32m   1414\u001B[0m \u001B[38;5;28;01mdef\u001B[39;00m \u001B[38;5;21m_agg_general\u001B[39m(\n\u001B[0;32m   1415\u001B[0m     \u001B[38;5;28mself\u001B[39m,\n\u001B[1;32m   (...)\u001B[0m\n\u001B[0;32m   1420\u001B[0m     npfunc: Callable,\n\u001B[0;32m   1421\u001B[0m ):\n\u001B[1;32m-> 1422\u001B[0m     result \u001B[38;5;241m=\u001B[39m \u001B[38;5;28;43mself\u001B[39;49m\u001B[38;5;241;43m.\u001B[39;49m\u001B[43m_cython_agg_general\u001B[49m\u001B[43m(\u001B[49m\n\u001B[0;32m   1423\u001B[0m \u001B[43m        \u001B[49m\u001B[43mhow\u001B[49m\u001B[38;5;241;43m=\u001B[39;49m\u001B[43malias\u001B[49m\u001B[43m,\u001B[49m\n\u001B[0;32m   1424\u001B[0m \u001B[43m        \u001B[49m\u001B[43malt\u001B[49m\u001B[38;5;241;43m=\u001B[39;49m\u001B[43mnpfunc\u001B[49m\u001B[43m,\u001B[49m\n\u001B[0;32m   1425\u001B[0m \u001B[43m        \u001B[49m\u001B[43mnumeric_only\u001B[49m\u001B[38;5;241;43m=\u001B[39;49m\u001B[43mnumeric_only\u001B[49m\u001B[43m,\u001B[49m\n\u001B[0;32m   1426\u001B[0m \u001B[43m        \u001B[49m\u001B[43mmin_count\u001B[49m\u001B[38;5;241;43m=\u001B[39;49m\u001B[43mmin_count\u001B[49m\u001B[43m,\u001B[49m\n\u001B[0;32m   1427\u001B[0m \u001B[43m    \u001B[49m\u001B[43m)\u001B[49m\n\u001B[0;32m   1428\u001B[0m     \u001B[38;5;28;01mreturn\u001B[39;00m result\u001B[38;5;241m.\u001B[39m__finalize__(\u001B[38;5;28mself\u001B[39m\u001B[38;5;241m.\u001B[39mobj, method\u001B[38;5;241m=\u001B[39m\u001B[38;5;124m\"\u001B[39m\u001B[38;5;124mgroupby\u001B[39m\u001B[38;5;124m\"\u001B[39m)\n",
      "File \u001B[1;32mc:\\users\\con823.tmlpc18109\\documents\\github\\covid19-public\\venv\\lib\\site-packages\\pandas\\core\\groupby\\groupby.py:1507\u001B[0m, in \u001B[0;36mGroupBy._cython_agg_general\u001B[1;34m(self, how, alt, numeric_only, min_count, **kwargs)\u001B[0m\n\u001B[0;32m   1503\u001B[0m         result \u001B[38;5;241m=\u001B[39m \u001B[38;5;28mself\u001B[39m\u001B[38;5;241m.\u001B[39m_agg_py_fallback(values, ndim\u001B[38;5;241m=\u001B[39mdata\u001B[38;5;241m.\u001B[39mndim, alt\u001B[38;5;241m=\u001B[39malt)\n\u001B[0;32m   1505\u001B[0m     \u001B[38;5;28;01mreturn\u001B[39;00m result\n\u001B[1;32m-> 1507\u001B[0m new_mgr \u001B[38;5;241m=\u001B[39m \u001B[43mdata\u001B[49m\u001B[38;5;241;43m.\u001B[39;49m\u001B[43mgrouped_reduce\u001B[49m\u001B[43m(\u001B[49m\u001B[43marray_func\u001B[49m\u001B[43m)\u001B[49m\n\u001B[0;32m   1508\u001B[0m res \u001B[38;5;241m=\u001B[39m \u001B[38;5;28mself\u001B[39m\u001B[38;5;241m.\u001B[39m_wrap_agged_manager(new_mgr)\n\u001B[0;32m   1509\u001B[0m out \u001B[38;5;241m=\u001B[39m \u001B[38;5;28mself\u001B[39m\u001B[38;5;241m.\u001B[39m_wrap_aggregated_output(res)\n",
      "File \u001B[1;32mc:\\users\\con823.tmlpc18109\\documents\\github\\covid19-public\\venv\\lib\\site-packages\\pandas\\core\\internals\\managers.py:1503\u001B[0m, in \u001B[0;36mBlockManager.grouped_reduce\u001B[1;34m(self, func)\u001B[0m\n\u001B[0;32m   1499\u001B[0m \u001B[38;5;28;01mif\u001B[39;00m blk\u001B[38;5;241m.\u001B[39mis_object:\n\u001B[0;32m   1500\u001B[0m     \u001B[38;5;66;03m# split on object-dtype blocks bc some columns may raise\u001B[39;00m\n\u001B[0;32m   1501\u001B[0m     \u001B[38;5;66;03m#  while others do not.\u001B[39;00m\n\u001B[0;32m   1502\u001B[0m     \u001B[38;5;28;01mfor\u001B[39;00m sb \u001B[38;5;129;01min\u001B[39;00m blk\u001B[38;5;241m.\u001B[39m_split():\n\u001B[1;32m-> 1503\u001B[0m         applied \u001B[38;5;241m=\u001B[39m \u001B[43msb\u001B[49m\u001B[38;5;241;43m.\u001B[39;49m\u001B[43mapply\u001B[49m\u001B[43m(\u001B[49m\u001B[43mfunc\u001B[49m\u001B[43m)\u001B[49m\n\u001B[0;32m   1504\u001B[0m         result_blocks \u001B[38;5;241m=\u001B[39m extend_blocks(applied, result_blocks)\n\u001B[0;32m   1505\u001B[0m \u001B[38;5;28;01melse\u001B[39;00m:\n",
      "File \u001B[1;32mc:\\users\\con823.tmlpc18109\\documents\\github\\covid19-public\\venv\\lib\\site-packages\\pandas\\core\\internals\\blocks.py:329\u001B[0m, in \u001B[0;36mBlock.apply\u001B[1;34m(self, func, **kwargs)\u001B[0m\n\u001B[0;32m    323\u001B[0m \u001B[38;5;129m@final\u001B[39m\n\u001B[0;32m    324\u001B[0m \u001B[38;5;28;01mdef\u001B[39;00m \u001B[38;5;21mapply\u001B[39m(\u001B[38;5;28mself\u001B[39m, func, \u001B[38;5;241m*\u001B[39m\u001B[38;5;241m*\u001B[39mkwargs) \u001B[38;5;241m-\u001B[39m\u001B[38;5;241m>\u001B[39m \u001B[38;5;28mlist\u001B[39m[Block]:\n\u001B[0;32m    325\u001B[0m \u001B[38;5;250m    \u001B[39m\u001B[38;5;124;03m\"\"\"\u001B[39;00m\n\u001B[0;32m    326\u001B[0m \u001B[38;5;124;03m    apply the function to my values; return a block if we are not\u001B[39;00m\n\u001B[0;32m    327\u001B[0m \u001B[38;5;124;03m    one\u001B[39;00m\n\u001B[0;32m    328\u001B[0m \u001B[38;5;124;03m    \"\"\"\u001B[39;00m\n\u001B[1;32m--> 329\u001B[0m     result \u001B[38;5;241m=\u001B[39m func(\u001B[38;5;28mself\u001B[39m\u001B[38;5;241m.\u001B[39mvalues, \u001B[38;5;241m*\u001B[39m\u001B[38;5;241m*\u001B[39mkwargs)\n\u001B[0;32m    331\u001B[0m     \u001B[38;5;28;01mreturn\u001B[39;00m \u001B[38;5;28mself\u001B[39m\u001B[38;5;241m.\u001B[39m_split_op_result(result)\n",
      "File \u001B[1;32mc:\\users\\con823.tmlpc18109\\documents\\github\\covid19-public\\venv\\lib\\site-packages\\pandas\\core\\groupby\\groupby.py:1490\u001B[0m, in \u001B[0;36mGroupBy._cython_agg_general.<locals>.array_func\u001B[1;34m(values)\u001B[0m\n\u001B[0;32m   1488\u001B[0m \u001B[38;5;28;01mdef\u001B[39;00m \u001B[38;5;21marray_func\u001B[39m(values: ArrayLike) \u001B[38;5;241m-\u001B[39m\u001B[38;5;241m>\u001B[39m ArrayLike:\n\u001B[0;32m   1489\u001B[0m     \u001B[38;5;28;01mtry\u001B[39;00m:\n\u001B[1;32m-> 1490\u001B[0m         result \u001B[38;5;241m=\u001B[39m \u001B[38;5;28mself\u001B[39m\u001B[38;5;241m.\u001B[39mgrouper\u001B[38;5;241m.\u001B[39m_cython_operation(\n\u001B[0;32m   1491\u001B[0m             \u001B[38;5;124m\"\u001B[39m\u001B[38;5;124maggregate\u001B[39m\u001B[38;5;124m\"\u001B[39m,\n\u001B[0;32m   1492\u001B[0m             values,\n\u001B[0;32m   1493\u001B[0m             how,\n\u001B[0;32m   1494\u001B[0m             axis\u001B[38;5;241m=\u001B[39mdata\u001B[38;5;241m.\u001B[39mndim \u001B[38;5;241m-\u001B[39m \u001B[38;5;241m1\u001B[39m,\n\u001B[0;32m   1495\u001B[0m             min_count\u001B[38;5;241m=\u001B[39mmin_count,\n\u001B[0;32m   1496\u001B[0m             \u001B[38;5;241m*\u001B[39m\u001B[38;5;241m*\u001B[39mkwargs,\n\u001B[0;32m   1497\u001B[0m         )\n\u001B[0;32m   1498\u001B[0m     \u001B[38;5;28;01mexcept\u001B[39;00m \u001B[38;5;167;01mNotImplementedError\u001B[39;00m:\n\u001B[0;32m   1499\u001B[0m         \u001B[38;5;66;03m# generally if we have numeric_only=False\u001B[39;00m\n\u001B[0;32m   1500\u001B[0m         \u001B[38;5;66;03m# and non-applicable functions\u001B[39;00m\n\u001B[0;32m   1501\u001B[0m         \u001B[38;5;66;03m# try to python agg\u001B[39;00m\n\u001B[0;32m   1502\u001B[0m         \u001B[38;5;66;03m# TODO: shouldn't min_count matter?\u001B[39;00m\n\u001B[0;32m   1503\u001B[0m         result \u001B[38;5;241m=\u001B[39m \u001B[38;5;28mself\u001B[39m\u001B[38;5;241m.\u001B[39m_agg_py_fallback(values, ndim\u001B[38;5;241m=\u001B[39mdata\u001B[38;5;241m.\u001B[39mndim, alt\u001B[38;5;241m=\u001B[39malt)\n",
      "File \u001B[1;32mc:\\users\\con823.tmlpc18109\\documents\\github\\covid19-public\\venv\\lib\\site-packages\\pandas\\core\\groupby\\ops.py:959\u001B[0m, in \u001B[0;36mBaseGrouper._cython_operation\u001B[1;34m(self, kind, values, how, axis, min_count, **kwargs)\u001B[0m\n\u001B[0;32m    957\u001B[0m ids, _, _ \u001B[38;5;241m=\u001B[39m \u001B[38;5;28mself\u001B[39m\u001B[38;5;241m.\u001B[39mgroup_info\n\u001B[0;32m    958\u001B[0m ngroups \u001B[38;5;241m=\u001B[39m \u001B[38;5;28mself\u001B[39m\u001B[38;5;241m.\u001B[39mngroups\n\u001B[1;32m--> 959\u001B[0m \u001B[38;5;28;01mreturn\u001B[39;00m cy_op\u001B[38;5;241m.\u001B[39mcython_operation(\n\u001B[0;32m    960\u001B[0m     values\u001B[38;5;241m=\u001B[39mvalues,\n\u001B[0;32m    961\u001B[0m     axis\u001B[38;5;241m=\u001B[39maxis,\n\u001B[0;32m    962\u001B[0m     min_count\u001B[38;5;241m=\u001B[39mmin_count,\n\u001B[0;32m    963\u001B[0m     comp_ids\u001B[38;5;241m=\u001B[39mids,\n\u001B[0;32m    964\u001B[0m     ngroups\u001B[38;5;241m=\u001B[39mngroups,\n\u001B[0;32m    965\u001B[0m     \u001B[38;5;241m*\u001B[39m\u001B[38;5;241m*\u001B[39mkwargs,\n\u001B[0;32m    966\u001B[0m )\n",
      "File \u001B[1;32mc:\\users\\con823.tmlpc18109\\documents\\github\\covid19-public\\venv\\lib\\site-packages\\pandas\\core\\groupby\\ops.py:657\u001B[0m, in \u001B[0;36mWrappedCythonOp.cython_operation\u001B[1;34m(self, values, axis, min_count, comp_ids, ngroups, **kwargs)\u001B[0m\n\u001B[0;32m    647\u001B[0m \u001B[38;5;28;01mif\u001B[39;00m \u001B[38;5;129;01mnot\u001B[39;00m \u001B[38;5;28misinstance\u001B[39m(values, np\u001B[38;5;241m.\u001B[39mndarray):\n\u001B[0;32m    648\u001B[0m     \u001B[38;5;66;03m# i.e. ExtensionArray\u001B[39;00m\n\u001B[0;32m    649\u001B[0m     \u001B[38;5;28;01mreturn\u001B[39;00m \u001B[38;5;28mself\u001B[39m\u001B[38;5;241m.\u001B[39m_ea_wrap_cython_operation(\n\u001B[0;32m    650\u001B[0m         values,\n\u001B[0;32m    651\u001B[0m         min_count\u001B[38;5;241m=\u001B[39mmin_count,\n\u001B[1;32m   (...)\u001B[0m\n\u001B[0;32m    654\u001B[0m         \u001B[38;5;241m*\u001B[39m\u001B[38;5;241m*\u001B[39mkwargs,\n\u001B[0;32m    655\u001B[0m     )\n\u001B[1;32m--> 657\u001B[0m \u001B[38;5;28;01mreturn\u001B[39;00m \u001B[38;5;28mself\u001B[39m\u001B[38;5;241m.\u001B[39m_cython_op_ndim_compat(\n\u001B[0;32m    658\u001B[0m     values,\n\u001B[0;32m    659\u001B[0m     min_count\u001B[38;5;241m=\u001B[39mmin_count,\n\u001B[0;32m    660\u001B[0m     ngroups\u001B[38;5;241m=\u001B[39mngroups,\n\u001B[0;32m    661\u001B[0m     comp_ids\u001B[38;5;241m=\u001B[39mcomp_ids,\n\u001B[0;32m    662\u001B[0m     mask\u001B[38;5;241m=\u001B[39m\u001B[38;5;28;01mNone\u001B[39;00m,\n\u001B[0;32m    663\u001B[0m     \u001B[38;5;241m*\u001B[39m\u001B[38;5;241m*\u001B[39mkwargs,\n\u001B[0;32m    664\u001B[0m )\n",
      "File \u001B[1;32mc:\\users\\con823.tmlpc18109\\documents\\github\\covid19-public\\venv\\lib\\site-packages\\pandas\\core\\groupby\\ops.py:497\u001B[0m, in \u001B[0;36mWrappedCythonOp._cython_op_ndim_compat\u001B[1;34m(self, values, min_count, ngroups, comp_ids, mask, result_mask, **kwargs)\u001B[0m\n\u001B[0;32m    494\u001B[0m     \u001B[38;5;66;03m# otherwise we have OHLC\u001B[39;00m\n\u001B[0;32m    495\u001B[0m     \u001B[38;5;28;01mreturn\u001B[39;00m res\u001B[38;5;241m.\u001B[39mT\n\u001B[1;32m--> 497\u001B[0m \u001B[38;5;28;01mreturn\u001B[39;00m \u001B[38;5;28mself\u001B[39m\u001B[38;5;241m.\u001B[39m_call_cython_op(\n\u001B[0;32m    498\u001B[0m     values,\n\u001B[0;32m    499\u001B[0m     min_count\u001B[38;5;241m=\u001B[39mmin_count,\n\u001B[0;32m    500\u001B[0m     ngroups\u001B[38;5;241m=\u001B[39mngroups,\n\u001B[0;32m    501\u001B[0m     comp_ids\u001B[38;5;241m=\u001B[39mcomp_ids,\n\u001B[0;32m    502\u001B[0m     mask\u001B[38;5;241m=\u001B[39mmask,\n\u001B[0;32m    503\u001B[0m     result_mask\u001B[38;5;241m=\u001B[39mresult_mask,\n\u001B[0;32m    504\u001B[0m     \u001B[38;5;241m*\u001B[39m\u001B[38;5;241m*\u001B[39mkwargs,\n\u001B[0;32m    505\u001B[0m )\n",
      "File \u001B[1;32mc:\\users\\con823.tmlpc18109\\documents\\github\\covid19-public\\venv\\lib\\site-packages\\pandas\\core\\groupby\\ops.py:549\u001B[0m, in \u001B[0;36mWrappedCythonOp._call_cython_op\u001B[1;34m(self, values, min_count, ngroups, comp_ids, mask, result_mask, **kwargs)\u001B[0m\n\u001B[0;32m    547\u001B[0m counts \u001B[38;5;241m=\u001B[39m np\u001B[38;5;241m.\u001B[39mzeros(ngroups, dtype\u001B[38;5;241m=\u001B[39mnp\u001B[38;5;241m.\u001B[39mint64)\n\u001B[0;32m    548\u001B[0m \u001B[38;5;28;01mif\u001B[39;00m \u001B[38;5;28mself\u001B[39m\u001B[38;5;241m.\u001B[39mhow \u001B[38;5;129;01min\u001B[39;00m [\u001B[38;5;124m\"\u001B[39m\u001B[38;5;124mmin\u001B[39m\u001B[38;5;124m\"\u001B[39m, \u001B[38;5;124m\"\u001B[39m\u001B[38;5;124mmax\u001B[39m\u001B[38;5;124m\"\u001B[39m, \u001B[38;5;124m\"\u001B[39m\u001B[38;5;124mmean\u001B[39m\u001B[38;5;124m\"\u001B[39m, \u001B[38;5;124m\"\u001B[39m\u001B[38;5;124mlast\u001B[39m\u001B[38;5;124m\"\u001B[39m, \u001B[38;5;124m\"\u001B[39m\u001B[38;5;124mfirst\u001B[39m\u001B[38;5;124m\"\u001B[39m, \u001B[38;5;124m\"\u001B[39m\u001B[38;5;124msum\u001B[39m\u001B[38;5;124m\"\u001B[39m]:\n\u001B[1;32m--> 549\u001B[0m     \u001B[43mfunc\u001B[49m\u001B[43m(\u001B[49m\n\u001B[0;32m    550\u001B[0m \u001B[43m        \u001B[49m\u001B[43mout\u001B[49m\u001B[38;5;241;43m=\u001B[39;49m\u001B[43mresult\u001B[49m\u001B[43m,\u001B[49m\n\u001B[0;32m    551\u001B[0m \u001B[43m        \u001B[49m\u001B[43mcounts\u001B[49m\u001B[38;5;241;43m=\u001B[39;49m\u001B[43mcounts\u001B[49m\u001B[43m,\u001B[49m\n\u001B[0;32m    552\u001B[0m \u001B[43m        \u001B[49m\u001B[43mvalues\u001B[49m\u001B[38;5;241;43m=\u001B[39;49m\u001B[43mvalues\u001B[49m\u001B[43m,\u001B[49m\n\u001B[0;32m    553\u001B[0m \u001B[43m        \u001B[49m\u001B[43mlabels\u001B[49m\u001B[38;5;241;43m=\u001B[39;49m\u001B[43mcomp_ids\u001B[49m\u001B[43m,\u001B[49m\n\u001B[0;32m    554\u001B[0m \u001B[43m        \u001B[49m\u001B[43mmin_count\u001B[49m\u001B[38;5;241;43m=\u001B[39;49m\u001B[43mmin_count\u001B[49m\u001B[43m,\u001B[49m\n\u001B[0;32m    555\u001B[0m \u001B[43m        \u001B[49m\u001B[43mmask\u001B[49m\u001B[38;5;241;43m=\u001B[39;49m\u001B[43mmask\u001B[49m\u001B[43m,\u001B[49m\n\u001B[0;32m    556\u001B[0m \u001B[43m        \u001B[49m\u001B[43mresult_mask\u001B[49m\u001B[38;5;241;43m=\u001B[39;49m\u001B[43mresult_mask\u001B[49m\u001B[43m,\u001B[49m\n\u001B[0;32m    557\u001B[0m \u001B[43m        \u001B[49m\u001B[43mis_datetimelike\u001B[49m\u001B[38;5;241;43m=\u001B[39;49m\u001B[43mis_datetimelike\u001B[49m\u001B[43m,\u001B[49m\n\u001B[0;32m    558\u001B[0m \u001B[43m    \u001B[49m\u001B[43m)\u001B[49m\n\u001B[0;32m    559\u001B[0m \u001B[38;5;28;01melif\u001B[39;00m \u001B[38;5;28mself\u001B[39m\u001B[38;5;241m.\u001B[39mhow \u001B[38;5;129;01min\u001B[39;00m [\u001B[38;5;124m\"\u001B[39m\u001B[38;5;124mvar\u001B[39m\u001B[38;5;124m\"\u001B[39m, \u001B[38;5;124m\"\u001B[39m\u001B[38;5;124mohlc\u001B[39m\u001B[38;5;124m\"\u001B[39m, \u001B[38;5;124m\"\u001B[39m\u001B[38;5;124mprod\u001B[39m\u001B[38;5;124m\"\u001B[39m, \u001B[38;5;124m\"\u001B[39m\u001B[38;5;124mmedian\u001B[39m\u001B[38;5;124m\"\u001B[39m]:\n\u001B[0;32m    560\u001B[0m     func(\n\u001B[0;32m    561\u001B[0m         result,\n\u001B[0;32m    562\u001B[0m         counts,\n\u001B[1;32m   (...)\u001B[0m\n\u001B[0;32m    568\u001B[0m         \u001B[38;5;241m*\u001B[39m\u001B[38;5;241m*\u001B[39mkwargs,\n\u001B[0;32m    569\u001B[0m     )\n",
      "File \u001B[1;32mc:\\users\\con823.tmlpc18109\\documents\\github\\covid19-public\\venv\\lib\\site-packages\\pandas\\_libs\\groupby.pyx:717\u001B[0m, in \u001B[0;36mpandas._libs.groupby.group_sum\u001B[1;34m()\u001B[0m\n",
      "\u001B[1;31mTypeError\u001B[0m: unsupported operand type(s) for +: 'datetime.date' and 'datetime.date'"
     ]
    }
   ],
   "source": [
    "def vaxStatus(date_pos, date1, date2, date3):\n",
    "    if (date_pos - date3).days > 6:\n",
    "        return 'boosted'\n",
    "    elif (date_pos - date2).days > 13:\n",
    "        return 'fullyvax'\n",
    "    elif (date_pos - date1).days >= 0:\n",
    "        return 'partialvax'\n",
    "    else:\n",
    "        return 'unvax'\n",
    "    \n",
    "\n",
    "# Pull latest deaths linelist and wrangle\n",
    "cols_date = ['date', 'date_positive', 'date_dose1', 'date_dose2', 'date_dose3']\n",
    "df = pd.read_csv(linelist_deaths,\n",
    "                 usecols=cols_date + ['brand1','age'])\n",
    "for c in cols_date:\n",
    "    df[c] = pd.to_datetime(df[c],errors='coerce').dt.date\n",
    "df = df[(df.date >= date_min) & (df.date <= date_max)]\n",
    "df = df[df.age > 17] # adults only\n",
    "df.drop(['age'],axis=1,inplace=True)\n",
    "\n",
    "# Ensure no null vax dates (future date as placeholder), shift 14 days for Cansino, then encode vax status\n",
    "for c in ['date_dose1', 'date_dose2', 'date_dose3']:\n",
    "    df[c] = df[c].fillna(date.today() + timedelta(1))\n",
    "df.loc[df.brand1.isin(['Cansino']), 'date_dose2'] = df.date_dose1 + timedelta(14)\n",
    "df['status'] = df.apply(lambda x: vaxStatus(x['date_positive'], x['date_dose1'], x['date_dose2'], x['date_dose3']), axis=1)\n",
    "df = df.replace(date.today() + timedelta(1), np.nan)  # Remove placeholder dates\n",
    "df['deaths'] = 1\n",
    "\n",
    "df.date = pd.to_datetime(df.date)\n",
    "df = df.groupby(['date', 'status']).sum() \\\n",
    "                .unstack(fill_value=0) \\\n",
    "                .asfreq('D',fill_value=0) \\\n",
    "                .stack() \\\n",
    "                .reset_index() # Typically, unstack/stack suffices, but this is robust to having dates with no deaths\n",
    "\n",
    "df.date = df.date.dt.date\n",
    "df = df[~df.status.isin(['partialvax'])].reset_index(drop=True)\n",
    "df[-18:].head(18)"
   ]
  },
  {
   "cell_type": "code",
   "execution_count": null,
   "id": "00d778d2",
   "metadata": {},
   "outputs": [],
   "source": [
    "shifts = {'cumul_partial_adult': 1, 'cumul_full_adult': 14, 'cumul_booster':7}\n",
    "\n",
    "vf = pd.read_csv(vax_agg)\n",
    "vf.date = pd.to_datetime(vf.date).dt.date\n",
    "vf['cumul_partial_adult'] = vf.cumul_partial - vf.cumul_partial_adol - vf.cumul_partial_child\n",
    "vf['unvax_adult'] = total_adults - vf.cumul_partial_adult\n",
    "vf['cumul_full_adult'] = vf.cumul_full - vf.cumul_full_adol - vf.cumul_full_child - vf.cumul_booster\n",
    "vf['cumul_partial_adult'] = vf['cumul_partial_adult'] - vf['cumul_full_adult'] - vf.cumul_booster\n",
    "\n",
    "for c in ['cumul_partial_adult', 'cumul_full_adult','cumul_booster']: vf[c] = vf[c].shift(shifts[c]).fillna(0).astype(int)\n",
    "vf = vf[['date','unvax_adult','cumul_partial_adult','cumul_full_adult','cumul_booster']]\n",
    "col_status = ['unvax','partialvax','fullyvax','boosted']\n",
    "vf.columns = ['date'] + col_status\n",
    "vf = pd.melt(vf, id_vars=['date'], value_vars=col_status)\n",
    "vf.columns = ['date','status','population']\n",
    "vf = vf[(vf.date >= date_min) & (vf.date <= date_max)]\n",
    "vf = vf[~vf.status.isin(['partialvax'])].sort_values(by=['date','status']).reset_index(drop=True)\n",
    "vf[-18:].head(18)"
   ]
  },
  {
   "cell_type": "code",
   "execution_count": null,
   "id": "34bd49f1",
   "metadata": {},
   "outputs": [],
   "source": [
    "# Merge frames and compute incidence, then get 7d rolling average\n",
    "df = pd.merge(df,vf, on=['date','status'], how='left')\n",
    "df['capita'] = df.deaths/df.population * 1e5\n",
    "df = df.pivot(index='date', columns='status', values=['capita']).fillna(0).reset_index()\n",
    "df.columns = ['date','Boosted','Fully Vaccinated','Unvaccinated']\n",
    "df = df[['date','Unvaccinated','Fully Vaccinated','Boosted']].set_index('date')\n",
    "df = df.rolling(7).mean().reset_index()\n",
    "df[-14:].head(14)"
   ]
  },
  {
   "cell_type": "code",
   "execution_count": null,
   "id": "54685078",
   "metadata": {},
   "outputs": [],
   "source": [
    "# Chart\n",
    "plt.rcParams.update({'font.size': 11, 'font.family':'Monospace', 'grid.linestyle':'dashed'})\n",
    "plt.rcParams[\"figure.figsize\"] = [10,8]\n",
    "plt.rcParams[\"figure.autolayout\"] = True\n",
    "fig, ax = plt.subplots()\n",
    "\n",
    "df.plot(x='date', y=['Unvaccinated','Fully Vaccinated','Boosted'], color=['#a70000','#bdbdbd','#183f78'], ax=ax)\n",
    "ax.spines['top'].set_visible(False)\n",
    "ax.spines['right'].set_visible(False)\n",
    "\n",
    "ax.yaxis.grid(True)\n",
    "ax.set_axisbelow(True)\n",
    "ax.xaxis.set_major_formatter(mdates.DateFormatter('%d-%b'))\n",
    "ax.legend(loc='upper center', bbox_to_anchor=(0.15, 0.95), ncol=1, labelspacing = 1.5, frameon=True, fancybox=True)\n",
    "\n",
    "plt.title('Deaths per 100k People by Vax Status \\n\\n (' + data_range + ')\\n')\n",
    "plt.xlabel('')\n",
    "plt.ylabel('')\n",
    "plt.show()"
   ]
  }
 ],
 "metadata": {
  "kernelspec": {
   "display_name": "Python 3 (ipykernel)",
   "language": "python",
   "name": "python3"
  },
  "language_info": {
   "codemirror_mode": {
    "name": "ipython",
    "version": 3
   },
   "file_extension": ".py",
   "mimetype": "text/x-python",
   "name": "python",
   "nbconvert_exporter": "python",
   "pygments_lexer": "ipython3",
   "version": "3.9.6"
  }
 },
 "nbformat": 4,
 "nbformat_minor": 5
}