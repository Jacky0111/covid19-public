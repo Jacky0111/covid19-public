{
 "cells": [
  {
   "cell_type": "markdown",
   "source": [
    "# 3 Death Breakthrough"
   ],
   "metadata": {
    "collapsed": false,
    "pycharm": {
     "name": "#%% md\n"
    }
   }
  },
  {
   "cell_type": "code",
   "execution_count": 1,
   "id": "20a03f4a",
   "metadata": {},
   "outputs": [],
   "source": [
    "import pandas as pd\n",
    "from datetime import date, timedelta"
   ]
  },
  {
   "cell_type": "code",
   "execution_count": 2,
   "id": "bd72ce5b",
   "metadata": {},
   "outputs": [
    {
     "data": {
      "text/plain": "         date date_announced date_positive date_dose1 date_dose2 date_dose3   \n0  2020-03-17     2020-03-17    2020-03-12        NaN        NaN        NaN  \\\n1  2020-03-17     2020-03-17    2020-03-15        NaN        NaN        NaN   \n2  2020-03-20     2020-03-20    2020-03-11        NaN        NaN        NaN   \n3  2020-03-21     2020-03-21    2020-03-13        NaN        NaN        NaN   \n4  2020-03-22     2020-03-22    2020-03-20        NaN        NaN        NaN   \n5  2020-03-21     2020-03-21    2020-03-20        NaN        NaN        NaN   \n6  2020-03-21     2020-03-21    2020-03-14        NaN        NaN        NaN   \n7  2020-03-21     2020-03-21    2020-03-17        NaN        NaN        NaN   \n8  2020-03-22     2020-03-22    2020-03-18        NaN        NaN        NaN   \n9  2020-03-22     2020-03-22    2020-03-14        NaN        NaN        NaN   \n\n  brand1 brand2 brand3              state age male bid malaysian comorb  \n0    NaN    NaN    NaN              Johor  34    1   0         1      1  \n1    NaN    NaN    NaN            Sarawak  60    1   0         1      1  \n2    NaN    NaN    NaN              Sabah  58    1   0         1      1  \n3    NaN    NaN    NaN             Melaka  50    1   0         1      1  \n4    NaN    NaN    NaN            Sarawak  80    0   1         1      1  \n5    NaN    NaN    NaN            Sarawak  39    0   0         1      1  \n6    NaN    NaN    NaN  W.P. Kuala Lumpur  57    1   0         1      1  \n7    NaN    NaN    NaN           Kelantan  69    1   0         1      1  \n8    NaN    NaN    NaN             Perlis  48    1   0         1      1  \n9    NaN    NaN    NaN       Pulau Pinang  73    1   0         1      1  ",
      "text/html": "<div>\n<style scoped>\n    .dataframe tbody tr th:only-of-type {\n        vertical-align: middle;\n    }\n\n    .dataframe tbody tr th {\n        vertical-align: top;\n    }\n\n    .dataframe thead th {\n        text-align: right;\n    }\n</style>\n<table border=\"1\" class=\"dataframe\">\n  <thead>\n    <tr style=\"text-align: right;\">\n      <th></th>\n      <th>date</th>\n      <th>date_announced</th>\n      <th>date_positive</th>\n      <th>date_dose1</th>\n      <th>date_dose2</th>\n      <th>date_dose3</th>\n      <th>brand1</th>\n      <th>brand2</th>\n      <th>brand3</th>\n      <th>state</th>\n      <th>age</th>\n      <th>male</th>\n      <th>bid</th>\n      <th>malaysian</th>\n      <th>comorb</th>\n    </tr>\n  </thead>\n  <tbody>\n    <tr>\n      <th>0</th>\n      <td>2020-03-17</td>\n      <td>2020-03-17</td>\n      <td>2020-03-12</td>\n      <td>NaN</td>\n      <td>NaN</td>\n      <td>NaN</td>\n      <td>NaN</td>\n      <td>NaN</td>\n      <td>NaN</td>\n      <td>Johor</td>\n      <td>34</td>\n      <td>1</td>\n      <td>0</td>\n      <td>1</td>\n      <td>1</td>\n    </tr>\n    <tr>\n      <th>1</th>\n      <td>2020-03-17</td>\n      <td>2020-03-17</td>\n      <td>2020-03-15</td>\n      <td>NaN</td>\n      <td>NaN</td>\n      <td>NaN</td>\n      <td>NaN</td>\n      <td>NaN</td>\n      <td>NaN</td>\n      <td>Sarawak</td>\n      <td>60</td>\n      <td>1</td>\n      <td>0</td>\n      <td>1</td>\n      <td>1</td>\n    </tr>\n    <tr>\n      <th>2</th>\n      <td>2020-03-20</td>\n      <td>2020-03-20</td>\n      <td>2020-03-11</td>\n      <td>NaN</td>\n      <td>NaN</td>\n      <td>NaN</td>\n      <td>NaN</td>\n      <td>NaN</td>\n      <td>NaN</td>\n      <td>Sabah</td>\n      <td>58</td>\n      <td>1</td>\n      <td>0</td>\n      <td>1</td>\n      <td>1</td>\n    </tr>\n    <tr>\n      <th>3</th>\n      <td>2020-03-21</td>\n      <td>2020-03-21</td>\n      <td>2020-03-13</td>\n      <td>NaN</td>\n      <td>NaN</td>\n      <td>NaN</td>\n      <td>NaN</td>\n      <td>NaN</td>\n      <td>NaN</td>\n      <td>Melaka</td>\n      <td>50</td>\n      <td>1</td>\n      <td>0</td>\n      <td>1</td>\n      <td>1</td>\n    </tr>\n    <tr>\n      <th>4</th>\n      <td>2020-03-22</td>\n      <td>2020-03-22</td>\n      <td>2020-03-20</td>\n      <td>NaN</td>\n      <td>NaN</td>\n      <td>NaN</td>\n      <td>NaN</td>\n      <td>NaN</td>\n      <td>NaN</td>\n      <td>Sarawak</td>\n      <td>80</td>\n      <td>0</td>\n      <td>1</td>\n      <td>1</td>\n      <td>1</td>\n    </tr>\n    <tr>\n      <th>5</th>\n      <td>2020-03-21</td>\n      <td>2020-03-21</td>\n      <td>2020-03-20</td>\n      <td>NaN</td>\n      <td>NaN</td>\n      <td>NaN</td>\n      <td>NaN</td>\n      <td>NaN</td>\n      <td>NaN</td>\n      <td>Sarawak</td>\n      <td>39</td>\n      <td>0</td>\n      <td>0</td>\n      <td>1</td>\n      <td>1</td>\n    </tr>\n    <tr>\n      <th>6</th>\n      <td>2020-03-21</td>\n      <td>2020-03-21</td>\n      <td>2020-03-14</td>\n      <td>NaN</td>\n      <td>NaN</td>\n      <td>NaN</td>\n      <td>NaN</td>\n      <td>NaN</td>\n      <td>NaN</td>\n      <td>W.P. Kuala Lumpur</td>\n      <td>57</td>\n      <td>1</td>\n      <td>0</td>\n      <td>1</td>\n      <td>1</td>\n    </tr>\n    <tr>\n      <th>7</th>\n      <td>2020-03-21</td>\n      <td>2020-03-21</td>\n      <td>2020-03-17</td>\n      <td>NaN</td>\n      <td>NaN</td>\n      <td>NaN</td>\n      <td>NaN</td>\n      <td>NaN</td>\n      <td>NaN</td>\n      <td>Kelantan</td>\n      <td>69</td>\n      <td>1</td>\n      <td>0</td>\n      <td>1</td>\n      <td>1</td>\n    </tr>\n    <tr>\n      <th>8</th>\n      <td>2020-03-22</td>\n      <td>2020-03-22</td>\n      <td>2020-03-18</td>\n      <td>NaN</td>\n      <td>NaN</td>\n      <td>NaN</td>\n      <td>NaN</td>\n      <td>NaN</td>\n      <td>NaN</td>\n      <td>Perlis</td>\n      <td>48</td>\n      <td>1</td>\n      <td>0</td>\n      <td>1</td>\n      <td>1</td>\n    </tr>\n    <tr>\n      <th>9</th>\n      <td>2020-03-22</td>\n      <td>2020-03-22</td>\n      <td>2020-03-14</td>\n      <td>NaN</td>\n      <td>NaN</td>\n      <td>NaN</td>\n      <td>NaN</td>\n      <td>NaN</td>\n      <td>NaN</td>\n      <td>Pulau Pinang</td>\n      <td>73</td>\n      <td>1</td>\n      <td>0</td>\n      <td>1</td>\n      <td>1</td>\n    </tr>\n  </tbody>\n</table>\n</div>"
     },
     "execution_count": 2,
     "metadata": {},
     "output_type": "execute_result"
    }
   ],
   "source": [
    "url_line_list = 'https://raw.githubusercontent.com/MoH-Malaysia/covid19-public/main/epidemic/linelist/linelist_deaths.csv'\n",
    "df = pd.read_csv(url_line_list, dtype=str)\n",
    "df.head(10)"
   ]
  },
  {
   "cell_type": "code",
   "execution_count": 3,
   "id": "6b38da72",
   "metadata": {},
   "outputs": [
    {
     "data": {
      "text/plain": "         date date_announced date_positive date_dose1  date_dose2 date_dose3   \n0  2020-03-17     2020-03-17    2020-03-12        NaN  2023-04-14        NaN  \\\n1  2020-03-17     2020-03-17    2020-03-15        NaN  2023-04-14        NaN   \n2  2020-03-20     2020-03-20    2020-03-11        NaN  2023-04-14        NaN   \n3  2020-03-21     2020-03-21    2020-03-13        NaN  2023-04-14        NaN   \n4  2020-03-22     2020-03-22    2020-03-20        NaN  2023-04-14        NaN   \n5  2020-03-21     2020-03-21    2020-03-20        NaN  2023-04-14        NaN   \n6  2020-03-21     2020-03-21    2020-03-14        NaN  2023-04-14        NaN   \n7  2020-03-21     2020-03-21    2020-03-17        NaN  2023-04-14        NaN   \n8  2020-03-22     2020-03-22    2020-03-18        NaN  2023-04-14        NaN   \n9  2020-03-22     2020-03-22    2020-03-14        NaN  2023-04-14        NaN   \n\n  brand1 brand2 brand3              state age male bid malaysian comorb  \n0    NaN    NaN    NaN              Johor  34    1   0         1      1  \n1    NaN    NaN    NaN            Sarawak  60    1   0         1      1  \n2    NaN    NaN    NaN              Sabah  58    1   0         1      1  \n3    NaN    NaN    NaN             Melaka  50    1   0         1      1  \n4    NaN    NaN    NaN            Sarawak  80    0   1         1      1  \n5    NaN    NaN    NaN            Sarawak  39    0   0         1      1  \n6    NaN    NaN    NaN  W.P. Kuala Lumpur  57    1   0         1      1  \n7    NaN    NaN    NaN           Kelantan  69    1   0         1      1  \n8    NaN    NaN    NaN             Perlis  48    1   0         1      1  \n9    NaN    NaN    NaN       Pulau Pinang  73    1   0         1      1  ",
      "text/html": "<div>\n<style scoped>\n    .dataframe tbody tr th:only-of-type {\n        vertical-align: middle;\n    }\n\n    .dataframe tbody tr th {\n        vertical-align: top;\n    }\n\n    .dataframe thead th {\n        text-align: right;\n    }\n</style>\n<table border=\"1\" class=\"dataframe\">\n  <thead>\n    <tr style=\"text-align: right;\">\n      <th></th>\n      <th>date</th>\n      <th>date_announced</th>\n      <th>date_positive</th>\n      <th>date_dose1</th>\n      <th>date_dose2</th>\n      <th>date_dose3</th>\n      <th>brand1</th>\n      <th>brand2</th>\n      <th>brand3</th>\n      <th>state</th>\n      <th>age</th>\n      <th>male</th>\n      <th>bid</th>\n      <th>malaysian</th>\n      <th>comorb</th>\n    </tr>\n  </thead>\n  <tbody>\n    <tr>\n      <th>0</th>\n      <td>2020-03-17</td>\n      <td>2020-03-17</td>\n      <td>2020-03-12</td>\n      <td>NaN</td>\n      <td>2023-04-14</td>\n      <td>NaN</td>\n      <td>NaN</td>\n      <td>NaN</td>\n      <td>NaN</td>\n      <td>Johor</td>\n      <td>34</td>\n      <td>1</td>\n      <td>0</td>\n      <td>1</td>\n      <td>1</td>\n    </tr>\n    <tr>\n      <th>1</th>\n      <td>2020-03-17</td>\n      <td>2020-03-17</td>\n      <td>2020-03-15</td>\n      <td>NaN</td>\n      <td>2023-04-14</td>\n      <td>NaN</td>\n      <td>NaN</td>\n      <td>NaN</td>\n      <td>NaN</td>\n      <td>Sarawak</td>\n      <td>60</td>\n      <td>1</td>\n      <td>0</td>\n      <td>1</td>\n      <td>1</td>\n    </tr>\n    <tr>\n      <th>2</th>\n      <td>2020-03-20</td>\n      <td>2020-03-20</td>\n      <td>2020-03-11</td>\n      <td>NaN</td>\n      <td>2023-04-14</td>\n      <td>NaN</td>\n      <td>NaN</td>\n      <td>NaN</td>\n      <td>NaN</td>\n      <td>Sabah</td>\n      <td>58</td>\n      <td>1</td>\n      <td>0</td>\n      <td>1</td>\n      <td>1</td>\n    </tr>\n    <tr>\n      <th>3</th>\n      <td>2020-03-21</td>\n      <td>2020-03-21</td>\n      <td>2020-03-13</td>\n      <td>NaN</td>\n      <td>2023-04-14</td>\n      <td>NaN</td>\n      <td>NaN</td>\n      <td>NaN</td>\n      <td>NaN</td>\n      <td>Melaka</td>\n      <td>50</td>\n      <td>1</td>\n      <td>0</td>\n      <td>1</td>\n      <td>1</td>\n    </tr>\n    <tr>\n      <th>4</th>\n      <td>2020-03-22</td>\n      <td>2020-03-22</td>\n      <td>2020-03-20</td>\n      <td>NaN</td>\n      <td>2023-04-14</td>\n      <td>NaN</td>\n      <td>NaN</td>\n      <td>NaN</td>\n      <td>NaN</td>\n      <td>Sarawak</td>\n      <td>80</td>\n      <td>0</td>\n      <td>1</td>\n      <td>1</td>\n      <td>1</td>\n    </tr>\n    <tr>\n      <th>5</th>\n      <td>2020-03-21</td>\n      <td>2020-03-21</td>\n      <td>2020-03-20</td>\n      <td>NaN</td>\n      <td>2023-04-14</td>\n      <td>NaN</td>\n      <td>NaN</td>\n      <td>NaN</td>\n      <td>NaN</td>\n      <td>Sarawak</td>\n      <td>39</td>\n      <td>0</td>\n      <td>0</td>\n      <td>1</td>\n      <td>1</td>\n    </tr>\n    <tr>\n      <th>6</th>\n      <td>2020-03-21</td>\n      <td>2020-03-21</td>\n      <td>2020-03-14</td>\n      <td>NaN</td>\n      <td>2023-04-14</td>\n      <td>NaN</td>\n      <td>NaN</td>\n      <td>NaN</td>\n      <td>NaN</td>\n      <td>W.P. Kuala Lumpur</td>\n      <td>57</td>\n      <td>1</td>\n      <td>0</td>\n      <td>1</td>\n      <td>1</td>\n    </tr>\n    <tr>\n      <th>7</th>\n      <td>2020-03-21</td>\n      <td>2020-03-21</td>\n      <td>2020-03-17</td>\n      <td>NaN</td>\n      <td>2023-04-14</td>\n      <td>NaN</td>\n      <td>NaN</td>\n      <td>NaN</td>\n      <td>NaN</td>\n      <td>Kelantan</td>\n      <td>69</td>\n      <td>1</td>\n      <td>0</td>\n      <td>1</td>\n      <td>1</td>\n    </tr>\n    <tr>\n      <th>8</th>\n      <td>2020-03-22</td>\n      <td>2020-03-22</td>\n      <td>2020-03-18</td>\n      <td>NaN</td>\n      <td>2023-04-14</td>\n      <td>NaN</td>\n      <td>NaN</td>\n      <td>NaN</td>\n      <td>NaN</td>\n      <td>Perlis</td>\n      <td>48</td>\n      <td>1</td>\n      <td>0</td>\n      <td>1</td>\n      <td>1</td>\n    </tr>\n    <tr>\n      <th>9</th>\n      <td>2020-03-22</td>\n      <td>2020-03-22</td>\n      <td>2020-03-14</td>\n      <td>NaN</td>\n      <td>2023-04-14</td>\n      <td>NaN</td>\n      <td>NaN</td>\n      <td>NaN</td>\n      <td>NaN</td>\n      <td>Pulau Pinang</td>\n      <td>73</td>\n      <td>1</td>\n      <td>0</td>\n      <td>1</td>\n      <td>1</td>\n    </tr>\n  </tbody>\n</table>\n</div>"
     },
     "execution_count": 3,
     "metadata": {},
     "output_type": "execute_result"
    }
   ],
   "source": [
    "# Wrangle relevant date columns\n",
    "# Convert date column to datetime format and extract date only\n",
    "df.date = pd.to_datetime(df.date, errors='coerce').dt.date\n",
    "# Convert date_positive column to datetime format and extract date only\n",
    "df.date_positive = pd.to_datetime(df.date_positive, errors='coerce').dt.date\n",
    "# Check if there are any missing dates in both columns, and raise an error if so\n",
    "assert len(df[df.date.isnull()]) == len(df[df.date_positive.isnull()]) == 0\n",
    "# Convert `date_dose2` column to datetime format and extract date only\n",
    "df.date_dose2 = pd.to_datetime(df.date_dose2, errors='coerce').dt.date\n",
    "\n",
    "# Fill blank dates in date_dose2 column with tomorrow's date for computation of full vax\n",
    "# (i.e., assume that they will be fully vaccinated by then)\n",
    "df.date_dose2 = df.date_dose2.fillna(date.today()+timedelta(1))\n",
    "df.head(10)"
   ]
  },
  {
   "cell_type": "code",
   "execution_count": 5,
   "id": "c1a56478",
   "metadata": {
    "pycharm": {
     "name": "#%%\n"
    }
   },
   "outputs": [
    {
     "data": {
      "text/plain": "             date date_announced date_positive  date_dose1 date_dose2   \n22521  2021-09-17     2021-09-17    2021-09-01  2021-06-15 2021-07-06  \\\n22535  2021-09-17     2021-09-17    2021-09-05  2021-06-16 2021-07-07   \n22565  2021-09-17     2021-09-17    2021-09-10  2021-06-20 2021-07-11   \n22577  2021-09-17     2021-09-17    2021-09-12  2021-06-03 2021-06-24   \n22843  2021-09-17     2021-09-18    2021-08-29  2021-05-24 2021-06-14   \n22899  2021-09-17     2021-09-18    2021-09-05  2021-06-12 2021-07-03   \n22908  2021-09-17     2021-09-18    2021-09-07  2021-07-21 2021-08-11   \n22909  2021-09-17     2021-09-18    2021-09-10  2021-06-21 2021-07-12   \n22980  2021-09-17     2021-09-18    2021-09-15  2021-07-15 2021-08-05   \n22986  2021-09-17     2021-09-18    2021-09-14  2021-06-02 2021-06-23   \n\n      date_dose3   brand1   brand2 brand3              state age male bid   \n22521        NaN   Pfizer   Pfizer    NaN              Johor  68    1   0  \\\n22535        NaN   Pfizer   Pfizer    NaN              Johor  67    1   0   \n22565        NaN  Sinovac  Sinovac    NaN         Terengganu  77    0   0   \n22577        NaN  Sinovac  Sinovac    NaN         Terengganu  47    0   0   \n22843        NaN   Pfizer   Pfizer    NaN              Johor  72    1   0   \n22899        NaN  Sinovac  Sinovac    NaN       Pulau Pinang  62    1   0   \n22908        NaN  Sinovac  Sinovac    NaN           Selangor  55    1   0   \n22909        NaN  Sinovac  Sinovac    NaN  W.P. Kuala Lumpur  83    0   0   \n22980        NaN  Sinovac  Sinovac    NaN           Kelantan  56    0   0   \n22986        NaN   Pfizer   Pfizer    NaN           Selangor  70    0   0   \n\n      malaysian comorb  \n22521         1      1  \n22535         1      1  \n22565         1      1  \n22577         1      1  \n22843         1      0  \n22899         1      1  \n22908         1      1  \n22909         1      1  \n22980         1      1  \n22986         1      1  ",
      "text/html": "<div>\n<style scoped>\n    .dataframe tbody tr th:only-of-type {\n        vertical-align: middle;\n    }\n\n    .dataframe tbody tr th {\n        vertical-align: top;\n    }\n\n    .dataframe thead th {\n        text-align: right;\n    }\n</style>\n<table border=\"1\" class=\"dataframe\">\n  <thead>\n    <tr style=\"text-align: right;\">\n      <th></th>\n      <th>date</th>\n      <th>date_announced</th>\n      <th>date_positive</th>\n      <th>date_dose1</th>\n      <th>date_dose2</th>\n      <th>date_dose3</th>\n      <th>brand1</th>\n      <th>brand2</th>\n      <th>brand3</th>\n      <th>state</th>\n      <th>age</th>\n      <th>male</th>\n      <th>bid</th>\n      <th>malaysian</th>\n      <th>comorb</th>\n    </tr>\n  </thead>\n  <tbody>\n    <tr>\n      <th>22521</th>\n      <td>2021-09-17</td>\n      <td>2021-09-17</td>\n      <td>2021-09-01</td>\n      <td>2021-06-15</td>\n      <td>2021-07-06</td>\n      <td>NaN</td>\n      <td>Pfizer</td>\n      <td>Pfizer</td>\n      <td>NaN</td>\n      <td>Johor</td>\n      <td>68</td>\n      <td>1</td>\n      <td>0</td>\n      <td>1</td>\n      <td>1</td>\n    </tr>\n    <tr>\n      <th>22535</th>\n      <td>2021-09-17</td>\n      <td>2021-09-17</td>\n      <td>2021-09-05</td>\n      <td>2021-06-16</td>\n      <td>2021-07-07</td>\n      <td>NaN</td>\n      <td>Pfizer</td>\n      <td>Pfizer</td>\n      <td>NaN</td>\n      <td>Johor</td>\n      <td>67</td>\n      <td>1</td>\n      <td>0</td>\n      <td>1</td>\n      <td>1</td>\n    </tr>\n    <tr>\n      <th>22565</th>\n      <td>2021-09-17</td>\n      <td>2021-09-17</td>\n      <td>2021-09-10</td>\n      <td>2021-06-20</td>\n      <td>2021-07-11</td>\n      <td>NaN</td>\n      <td>Sinovac</td>\n      <td>Sinovac</td>\n      <td>NaN</td>\n      <td>Terengganu</td>\n      <td>77</td>\n      <td>0</td>\n      <td>0</td>\n      <td>1</td>\n      <td>1</td>\n    </tr>\n    <tr>\n      <th>22577</th>\n      <td>2021-09-17</td>\n      <td>2021-09-17</td>\n      <td>2021-09-12</td>\n      <td>2021-06-03</td>\n      <td>2021-06-24</td>\n      <td>NaN</td>\n      <td>Sinovac</td>\n      <td>Sinovac</td>\n      <td>NaN</td>\n      <td>Terengganu</td>\n      <td>47</td>\n      <td>0</td>\n      <td>0</td>\n      <td>1</td>\n      <td>1</td>\n    </tr>\n    <tr>\n      <th>22843</th>\n      <td>2021-09-17</td>\n      <td>2021-09-18</td>\n      <td>2021-08-29</td>\n      <td>2021-05-24</td>\n      <td>2021-06-14</td>\n      <td>NaN</td>\n      <td>Pfizer</td>\n      <td>Pfizer</td>\n      <td>NaN</td>\n      <td>Johor</td>\n      <td>72</td>\n      <td>1</td>\n      <td>0</td>\n      <td>1</td>\n      <td>0</td>\n    </tr>\n    <tr>\n      <th>22899</th>\n      <td>2021-09-17</td>\n      <td>2021-09-18</td>\n      <td>2021-09-05</td>\n      <td>2021-06-12</td>\n      <td>2021-07-03</td>\n      <td>NaN</td>\n      <td>Sinovac</td>\n      <td>Sinovac</td>\n      <td>NaN</td>\n      <td>Pulau Pinang</td>\n      <td>62</td>\n      <td>1</td>\n      <td>0</td>\n      <td>1</td>\n      <td>1</td>\n    </tr>\n    <tr>\n      <th>22908</th>\n      <td>2021-09-17</td>\n      <td>2021-09-18</td>\n      <td>2021-09-07</td>\n      <td>2021-07-21</td>\n      <td>2021-08-11</td>\n      <td>NaN</td>\n      <td>Sinovac</td>\n      <td>Sinovac</td>\n      <td>NaN</td>\n      <td>Selangor</td>\n      <td>55</td>\n      <td>1</td>\n      <td>0</td>\n      <td>1</td>\n      <td>1</td>\n    </tr>\n    <tr>\n      <th>22909</th>\n      <td>2021-09-17</td>\n      <td>2021-09-18</td>\n      <td>2021-09-10</td>\n      <td>2021-06-21</td>\n      <td>2021-07-12</td>\n      <td>NaN</td>\n      <td>Sinovac</td>\n      <td>Sinovac</td>\n      <td>NaN</td>\n      <td>W.P. Kuala Lumpur</td>\n      <td>83</td>\n      <td>0</td>\n      <td>0</td>\n      <td>1</td>\n      <td>1</td>\n    </tr>\n    <tr>\n      <th>22980</th>\n      <td>2021-09-17</td>\n      <td>2021-09-18</td>\n      <td>2021-09-15</td>\n      <td>2021-07-15</td>\n      <td>2021-08-05</td>\n      <td>NaN</td>\n      <td>Sinovac</td>\n      <td>Sinovac</td>\n      <td>NaN</td>\n      <td>Kelantan</td>\n      <td>56</td>\n      <td>0</td>\n      <td>0</td>\n      <td>1</td>\n      <td>1</td>\n    </tr>\n    <tr>\n      <th>22986</th>\n      <td>2021-09-17</td>\n      <td>2021-09-18</td>\n      <td>2021-09-14</td>\n      <td>2021-06-02</td>\n      <td>2021-06-23</td>\n      <td>NaN</td>\n      <td>Pfizer</td>\n      <td>Pfizer</td>\n      <td>NaN</td>\n      <td>Selangor</td>\n      <td>70</td>\n      <td>0</td>\n      <td>0</td>\n      <td>1</td>\n      <td>1</td>\n    </tr>\n  </tbody>\n</table>\n</div>"
     },
     "execution_count": 5,
     "metadata": {},
     "output_type": "execute_result"
    }
   ],
   "source": [
    "# Convert the columns to datetime format\n",
    "df['date_positive'] = pd.to_datetime(df['date_positive'])\n",
    "df['date_dose2'] = pd.to_datetime(df['date_dose2'])\n",
    "\n",
    "# Keep only those who were infected at least 14 days after dose 2\n",
    "full_vax = df[(df['date_positive'] - df['date_dose2']).dt.days > 13].copy()\n",
    "full_vax = full_vax[full_vax['date'] == date(2021,9,17)]\n",
    "full_vax.head(10)"
   ]
  }
 ],
 "metadata": {
  "kernelspec": {
   "display_name": "Python 3 (ipykernel)",
   "language": "python",
   "name": "python3"
  },
  "language_info": {
   "codemirror_mode": {
    "name": "ipython",
    "version": 3
   },
   "file_extension": ".py",
   "mimetype": "text/x-python",
   "name": "python",
   "nbconvert_exporter": "python",
   "pygments_lexer": "ipython3",
   "version": "3.9.6"
  }
 },
 "nbformat": 4,
 "nbformat_minor": 5
}