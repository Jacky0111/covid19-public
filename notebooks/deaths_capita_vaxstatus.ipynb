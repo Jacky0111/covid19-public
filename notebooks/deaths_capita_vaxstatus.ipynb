{
 "cells": [
  {
   "cell_type": "markdown",
   "id": "ec367996",
   "metadata": {},
   "source": [
    "## Computing the incidence of a COVID-19 outcome variable (e.g. deaths), by vax status.\n",
    "\n",
    "There are two common methodologies:\n",
    "1. Compare aggregate data on deaths by vax status (numerator) to population by vax status (denominator) \n",
    "2. Compute incidence rates by tracking a representative sample of individuals\n",
    "\n",
    "The validity of Method 1 hinges on whether we are confident in population estimates, since the unvaccinated population is not tracked in the same way that each vaccination is, and is hence derived as:\n",
    "\n",
    "`unvax  = total population - total with at least 1 dose`\n",
    "\n",
    "This relies on an accurate estimates of:\n",
    "- Total population\n",
    "- Number of vaccinated people\n",
    "\n",
    "Vaccinations are tracked rigorously in Malaysia, but a robust population estimate may be difficult to obtain, given the ostensibly large undocumented population. \n",
    "\n",
    "In the context of vaccinations, an indicator that there is uncertainty over population data is when the number of vaccinations delivered exceeds the total population estimate. This problem is particularly salient in Malaysia, because primary vaccination rates are >90% across all age groups. This means that even small errors in population estimates (which are a regular feature of censusus, and not due to any fault of the census-taker) can lead to an implied negative unvaccinated group. For example, as of the 10th of March, the number of vaccinated individuals aged 50-59 exceeds the population estimate for that age group.\n",
    "\n",
    "Therefore, it may be preferable to use Method 2, and track a representative sample of individuals, especially if a comprehensive population database is available. With such a database, COVID-19 testing, outcomes (hosp, ICU, death), and vaccination history are matched based on individual IDs; computed incidence rates are guaranteed to be bounded between 0 and 100%.\n",
    "\n",
    "That said, this notebook is intended to demonstrate the application of Method 1. However, we use population numbers derived from our application of Method 2."
   ]
  },
  {
   "cell_type": "code",
   "execution_count": 1,
   "id": "98976dd8",
   "metadata": {},
   "outputs": [],
   "source": [
    "import numpy as np\n",
    "import pandas as pd\n",
    "from datetime import date, timedelta\n",
    "\n",
    "import matplotlib.pyplot as plt\n",
    "import matplotlib.ticker as tkr\n",
    "\n",
    "linelist_deaths = 'https://raw.githubusercontent.com/MoH-Malaysia/covid19-public/main/epidemic/linelist/linelist_deaths.csv'\n",
    "vax_age = 'https://raw.githubusercontent.com/MoH-Malaysia/covid19-public/main/vaccination/vax_demog_age.csv'"
   ]
  },
  {
   "cell_type": "code",
   "execution_count": 2,
   "id": "51b66f2d",
   "metadata": {},
   "outputs": [],
   "source": [
    "# The first set of numbers is taken directly from DOSM's latest release (Feb 14), with imputation only to back out the 18-29 group.\n",
    "# This set of population numbers gives us an adult population of ~23.1mil\n",
    "\n",
    "pop_age = {\n",
    "'18_29' : 7067431,\n",
    "'30_39' : 5636728,\n",
    "'40_49' : 4021654,\n",
    "'50_59' : 3030048,\n",
    "'60_69' : 2050943,\n",
    "'70_79' : 956402,\n",
    "'80+' : 326759,\n",
    "}\n",
    "\n",
    "# This is the adjusted set, derived from supplementing national registration data with data collected via the vaccination program.\n",
    "# This set of population numbers gives us an adult population of ~24mil, which drastically affects the size of the unvax population.\n",
    "# Comment it out to use the first set.\n",
    "\n",
    "pop_age = {\n",
    "'18_29' : 7563410,\n",
    "'30_39' : 5740871,\n",
    "'40_49' : 4021654,\n",
    "'50_59' : 3121816,\n",
    "'60_69' : 2180719,\n",
    "'70_79' : 1001044,\n",
    "'80+' : 337123,\n",
    "}"
   ]
  },
  {
   "cell_type": "code",
   "execution_count": 3,
   "id": "4fc8886f",
   "metadata": {},
   "outputs": [
    {
     "data": {
      "text/plain": "     age    status  deaths\n0  30_39   boosted       1\n1  60_69   boosted       2\n2  60_69  fullyvax       1\n3  70_79   boosted       1\n4  70_79  fullyvax       1\n5    80+   boosted       4\n6    80+     unvax       2",
      "text/html": "<div>\n<style scoped>\n    .dataframe tbody tr th:only-of-type {\n        vertical-align: middle;\n    }\n\n    .dataframe tbody tr th {\n        vertical-align: top;\n    }\n\n    .dataframe thead th {\n        text-align: right;\n    }\n</style>\n<table border=\"1\" class=\"dataframe\">\n  <thead>\n    <tr style=\"text-align: right;\">\n      <th></th>\n      <th>age</th>\n      <th>status</th>\n      <th>deaths</th>\n    </tr>\n  </thead>\n  <tbody>\n    <tr>\n      <th>0</th>\n      <td>30_39</td>\n      <td>boosted</td>\n      <td>1</td>\n    </tr>\n    <tr>\n      <th>1</th>\n      <td>60_69</td>\n      <td>boosted</td>\n      <td>2</td>\n    </tr>\n    <tr>\n      <th>2</th>\n      <td>60_69</td>\n      <td>fullyvax</td>\n      <td>1</td>\n    </tr>\n    <tr>\n      <th>3</th>\n      <td>70_79</td>\n      <td>boosted</td>\n      <td>1</td>\n    </tr>\n    <tr>\n      <th>4</th>\n      <td>70_79</td>\n      <td>fullyvax</td>\n      <td>1</td>\n    </tr>\n    <tr>\n      <th>5</th>\n      <td>80+</td>\n      <td>boosted</td>\n      <td>4</td>\n    </tr>\n    <tr>\n      <th>6</th>\n      <td>80+</td>\n      <td>unvax</td>\n      <td>2</td>\n    </tr>\n  </tbody>\n</table>\n</div>"
     },
     "execution_count": 3,
     "metadata": {},
     "output_type": "execute_result"
    }
   ],
   "source": [
    "# Key parameters - choose timerange and whether to use date of death or date of report.\n",
    "# Note: Intervals longer than 21 days are not advisable, as there may be large changes in the vax population. This requires different handling.\n",
    "\n",
    "date_min = date.today()-timedelta(14)\n",
    "date_max = date.today()-timedelta(1)\n",
    "use_announced = 0\n",
    "\n",
    "def vaxStatus(date_pos, date1, date2, date3):\n",
    "    if (date_pos - date3).days > 6: return 'boosted'\n",
    "    elif (date_pos - date2).days > 13: return 'fullyvax'\n",
    "    elif (date_pos - date1).days >= 0: return 'partialvax'\n",
    "    else: return 'unvax'\n",
    "    \n",
    "def castAge(age):\n",
    "    if age == -1: return 'missing'\n",
    "    elif age < 5: return '0_4'\n",
    "    elif age < 12: return '5_11'\n",
    "    elif age < 18: return '12_17'\n",
    "    elif age < 30: return '18_29'\n",
    "    elif age < 40: return '30_39'\n",
    "    elif age < 50: return '40_49'\n",
    "    elif age < 60: return '50_59'\n",
    "    elif age < 70: return '60_69'\n",
    "    elif age < 80: return '70_79'\n",
    "    else: return '80+'\n",
    "\n",
    "ages = [x for x in range(-1,150)]\n",
    "age_cat = dict(zip(ages,[castAge(x) for x in ages]))\n",
    "\n",
    "# Pull latest deaths linelist and wrangle\n",
    "datecol = 'date_announced' if use_announced == 1 else 'date'\n",
    "df = pd.read_csv(linelist_deaths, usecols=[datecol, 'age', 'date_positive','date_dose1','date_dose2','date_dose3','brand1'])\n",
    "df = df.rename(columns={'date_announced':'date'})\n",
    "for c in ['date','date_positive','date_dose1','date_dose2','date_dose3']: df[c] = pd.to_datetime(df[c],errors='coerce').dt.date\n",
    "df = df[(df.date >= date_min) & (df.date <= date_max)]\n",
    "\n",
    "# Ensure no null vax dates (future date as placeholder), shift 14 days for Cansino, then encode vax status and age group\n",
    "for c in ['date_dose1','date_dose2','date_dose3']: df[c] = df[c].fillna(date.today()+timedelta(1))\n",
    "df.loc[df.brand1.isin(['Cansino']),'date_dose2'] = df.date_dose1 + timedelta(14)\n",
    "df['status'] = df.apply(lambda x: vaxStatus(x['date_positive'],x['date_dose1'],x['date_dose2'],x['date_dose3']),axis=1)\n",
    "df = df.replace(date.today()+timedelta(1),np.nan) # Remove placeholder dates\n",
    "df.age = df.age.map(age_cat) # Encode age group\n",
    "\n",
    "# Tabulate, keeping adults only\n",
    "df = df[~df.age.isin(['0_4','5_11','12_17'])].groupby(['age','status']).size().to_frame('deaths').reset_index()\n",
    "df = df[~df.status.isin(['partialvax'])].reset_index(drop=True)\n",
    "df.head(len(df))"
   ]
  },
  {
   "cell_type": "code",
   "execution_count": 5,
   "id": "4bda6acd",
   "metadata": {},
   "outputs": [
    {
     "data": {
      "text/plain": "      age    status           pop\n0   18_29   boosted  4.435816e+06\n1   18_29  fullyvax  2.352326e+06\n2   18_29     unvax  7.123292e+05\n3   30_39   boosted  3.731249e+06\n4   30_39  fullyvax  1.616481e+06\n5   30_39     unvax  3.445761e+05\n6   40_49   boosted  2.942926e+06\n7   40_49  fullyvax  1.051235e+06\n8   40_49     unvax -4.732429e+03\n9   50_59   boosted  2.286117e+06\n10  50_59  fullyvax  7.722906e+05\n11  50_59     unvax  4.185193e+04\n12  60_69   boosted  1.659374e+06\n13  60_69  fullyvax  4.932352e+05\n14  60_69     unvax  1.530864e+04\n15  70_79   boosted  7.419949e+05\n16  70_79  fullyvax  2.370948e+05\n17  70_79     unvax  1.558114e+04\n18    80+   boosted  2.226365e+05\n19    80+  fullyvax  9.906214e+04\n20    80+     unvax  1.141643e+04",
      "text/html": "<div>\n<style scoped>\n    .dataframe tbody tr th:only-of-type {\n        vertical-align: middle;\n    }\n\n    .dataframe tbody tr th {\n        vertical-align: top;\n    }\n\n    .dataframe thead th {\n        text-align: right;\n    }\n</style>\n<table border=\"1\" class=\"dataframe\">\n  <thead>\n    <tr style=\"text-align: right;\">\n      <th></th>\n      <th>age</th>\n      <th>status</th>\n      <th>pop</th>\n    </tr>\n  </thead>\n  <tbody>\n    <tr>\n      <th>0</th>\n      <td>18_29</td>\n      <td>boosted</td>\n      <td>4.435816e+06</td>\n    </tr>\n    <tr>\n      <th>1</th>\n      <td>18_29</td>\n      <td>fullyvax</td>\n      <td>2.352326e+06</td>\n    </tr>\n    <tr>\n      <th>2</th>\n      <td>18_29</td>\n      <td>unvax</td>\n      <td>7.123292e+05</td>\n    </tr>\n    <tr>\n      <th>3</th>\n      <td>30_39</td>\n      <td>boosted</td>\n      <td>3.731249e+06</td>\n    </tr>\n    <tr>\n      <th>4</th>\n      <td>30_39</td>\n      <td>fullyvax</td>\n      <td>1.616481e+06</td>\n    </tr>\n    <tr>\n      <th>5</th>\n      <td>30_39</td>\n      <td>unvax</td>\n      <td>3.445761e+05</td>\n    </tr>\n    <tr>\n      <th>6</th>\n      <td>40_49</td>\n      <td>boosted</td>\n      <td>2.942926e+06</td>\n    </tr>\n    <tr>\n      <th>7</th>\n      <td>40_49</td>\n      <td>fullyvax</td>\n      <td>1.051235e+06</td>\n    </tr>\n    <tr>\n      <th>8</th>\n      <td>40_49</td>\n      <td>unvax</td>\n      <td>-4.732429e+03</td>\n    </tr>\n    <tr>\n      <th>9</th>\n      <td>50_59</td>\n      <td>boosted</td>\n      <td>2.286117e+06</td>\n    </tr>\n    <tr>\n      <th>10</th>\n      <td>50_59</td>\n      <td>fullyvax</td>\n      <td>7.722906e+05</td>\n    </tr>\n    <tr>\n      <th>11</th>\n      <td>50_59</td>\n      <td>unvax</td>\n      <td>4.185193e+04</td>\n    </tr>\n    <tr>\n      <th>12</th>\n      <td>60_69</td>\n      <td>boosted</td>\n      <td>1.659374e+06</td>\n    </tr>\n    <tr>\n      <th>13</th>\n      <td>60_69</td>\n      <td>fullyvax</td>\n      <td>4.932352e+05</td>\n    </tr>\n    <tr>\n      <th>14</th>\n      <td>60_69</td>\n      <td>unvax</td>\n      <td>1.530864e+04</td>\n    </tr>\n    <tr>\n      <th>15</th>\n      <td>70_79</td>\n      <td>boosted</td>\n      <td>7.419949e+05</td>\n    </tr>\n    <tr>\n      <th>16</th>\n      <td>70_79</td>\n      <td>fullyvax</td>\n      <td>2.370948e+05</td>\n    </tr>\n    <tr>\n      <th>17</th>\n      <td>70_79</td>\n      <td>unvax</td>\n      <td>1.558114e+04</td>\n    </tr>\n    <tr>\n      <th>18</th>\n      <td>80+</td>\n      <td>boosted</td>\n      <td>2.226365e+05</td>\n    </tr>\n    <tr>\n      <th>19</th>\n      <td>80+</td>\n      <td>fullyvax</td>\n      <td>9.906214e+04</td>\n    </tr>\n    <tr>\n      <th>20</th>\n      <td>80+</td>\n      <td>unvax</td>\n      <td>1.141643e+04</td>\n    </tr>\n  </tbody>\n</table>\n</div>"
     },
     "execution_count": 5,
     "metadata": {},
     "output_type": "execute_result"
    }
   ],
   "source": [
    "# Get vax by age data and wrangle\n",
    "cols_vax = ['date'] + [x + '_' + y.replace('+','') for x in ['partial','full','booster'] for y in list(pop_age.keys())]\n",
    "vf = pd.read_csv(vax_age,usecols=cols_vax)\n",
    "vf.columns = [x.replace('80','80+') for x in vf.columns]\n",
    "vf.date = pd.to_datetime(vf.date).dt.date\n",
    "vf = vf.groupby(['date']).sum().cumsum().reset_index()\n",
    "\n",
    "# Add unvax columns, subtract partial from unvax, full from partial, and boosted from full\n",
    "for c in list(pop_age.keys()): \n",
    "    vf['unvax_' + c] = pop_age[c] - vf['partial_' + c]\n",
    "    vf['partial_' + c] = vf['partial_' + c] - vf['full_' + c]\n",
    "    vf['full_' + c] = vf['full_' + c] - vf['booster_' + c]\n",
    "    \n",
    "# Shift vax columns per definitions of partial, full, boosted\n",
    "for c in [x for x in vf.columns if 'partial' in x]: vf[c] = vf[c].shift(1).fillna(0).astype(int)\n",
    "for c in [x for x in vf.columns if 'full' in x]: vf[c] = vf[c].shift(14).fillna(0).astype(int)\n",
    "for c in [x for x in vf.columns if 'booster' in x]: vf[c] = vf[c].shift(7).fillna(0).astype(int)\n",
    "\n",
    "# Get mean across period and transpose to merge with deaths df\n",
    "vf = vf[(vf.date >= date_min) & (vf.date <= date_max)]\n",
    "vf.drop(['date'],axis=1,inplace=True)\n",
    "vf.loc['pop'] = vf.mean(numeric_only=True)\n",
    "vf = vf[vf.index == 'pop'].transpose().reset_index().rename(columns={'index':'cat'})\n",
    "vf[['status', 'age']] = vf['cat'].str.split('_', n=1, expand=True)\n",
    "\n",
    "vf.status = vf.status.replace({'partial':'partialvax', 'full':'fullyvax', 'booster':'boosted'})\n",
    "vf = vf[~vf.status.isin(['partialvax'])][['age','status','pop']].sort_values(by=['age','status']).reset_index(drop=True)\n",
    "vf.head(len(vf))"
   ]
  },
  {
   "cell_type": "code",
   "execution_count": 6,
   "id": "cb2241ea",
   "metadata": {},
   "outputs": [
    {
     "data": {
      "text/plain": "     age  Unvaccinated  Fully Vaccinated   Boosted\n0  30_39      0.000000          0.000000  0.026801\n1  60_69      0.000000          0.202743  0.120527\n2  70_79      0.000000          0.421772  0.134772\n3    80+     17.518614          0.000000  1.796651",
      "text/html": "<div>\n<style scoped>\n    .dataframe tbody tr th:only-of-type {\n        vertical-align: middle;\n    }\n\n    .dataframe tbody tr th {\n        vertical-align: top;\n    }\n\n    .dataframe thead th {\n        text-align: right;\n    }\n</style>\n<table border=\"1\" class=\"dataframe\">\n  <thead>\n    <tr style=\"text-align: right;\">\n      <th></th>\n      <th>age</th>\n      <th>Unvaccinated</th>\n      <th>Fully Vaccinated</th>\n      <th>Boosted</th>\n    </tr>\n  </thead>\n  <tbody>\n    <tr>\n      <th>0</th>\n      <td>30_39</td>\n      <td>0.000000</td>\n      <td>0.000000</td>\n      <td>0.026801</td>\n    </tr>\n    <tr>\n      <th>1</th>\n      <td>60_69</td>\n      <td>0.000000</td>\n      <td>0.202743</td>\n      <td>0.120527</td>\n    </tr>\n    <tr>\n      <th>2</th>\n      <td>70_79</td>\n      <td>0.000000</td>\n      <td>0.421772</td>\n      <td>0.134772</td>\n    </tr>\n    <tr>\n      <th>3</th>\n      <td>80+</td>\n      <td>17.518614</td>\n      <td>0.000000</td>\n      <td>1.796651</td>\n    </tr>\n  </tbody>\n</table>\n</div>"
     },
     "execution_count": 6,
     "metadata": {},
     "output_type": "execute_result"
    }
   ],
   "source": [
    "# Merge frames and compute incidence, then pivot\n",
    "df = pd.merge(df,vf, on=['age','status'], how='left')\n",
    "df['capita'] = df.deaths/df['pop'] * 100000\n",
    "df = df.pivot(index='age', columns='status', values=['capita']).fillna(0).reset_index()\n",
    "df.columns = ['age','Boosted','Fully Vaccinated','Unvaccinated']\n",
    "df = df[['age','Unvaccinated','Fully Vaccinated','Boosted']]\n",
    "df.head(len(df))"
   ]
  },
  {
   "cell_type": "code",
   "execution_count": 7,
   "id": "5936b93b",
   "metadata": {},
   "outputs": [
    {
     "data": {
      "text/plain": "<Figure size 800x600 with 1 Axes>",
      "image/png": "[encoded data removed]"
     },
     "metadata": {},
     "output_type": "display_data"
    }
   ],
   "source": [
    "# Chart\n",
    "\n",
    "def commaSep(x, pos): return ('{:,}'.format(x)).replace('.0', '')\n",
    "\n",
    "plt.rcParams.update({'font.size': 10,\n",
    "                     'font.family':'Monospace',\n",
    "                     'grid.linestyle':'dashed'})\n",
    "plt.rcParams[\"figure.figsize\"] = [8,6]\n",
    "plt.rcParams[\"figure.autolayout\"] = True\n",
    "fig, ax = plt.subplots()\n",
    "\n",
    "df.plot(x='age', y=['Unvaccinated','Fully Vaccinated','Boosted'], kind='bar', \n",
    "        color=['#a70000','lightgray','#183f78'],\n",
    "        align='center',\n",
    "        width=0.7,linewidth=0.3,\n",
    "        edgecolor='black',ax=ax)\n",
    "ax.spines['top'].set_visible(False)\n",
    "ax.spines['right'].set_visible(False)\n",
    "\n",
    "ax.yaxis.grid(True)\n",
    "ax.set_axisbelow(True)\n",
    "ax.legend(loc='upper center', bbox_to_anchor=(0.2, 0.95), ncol=1, labelspacing = 1.5, frameon=True, fancybox=True)\n",
    "plt.xticks(rotation=0)\n",
    "ax.yaxis.set_major_formatter(tkr.FuncFormatter(commaSep))\n",
    "plt.tick_params(bottom=False)\n",
    "\n",
    "plt.title('Deaths per 100k People by Vax Status \\n\\n' + \n",
    "          '(data from ' + date_min.strftime('%d-%b') + ' to ' + date_max.strftime('%d-%b') + ')')\n",
    "plt.xlabel('')\n",
    "plt.ylabel('')\n",
    "plt.show()"
   ]
  }
 ],
 "metadata": {
  "kernelspec": {
   "display_name": "Python 3 (ipykernel)",
   "language": "python",
   "name": "python3"
  },
  "language_info": {
   "codemirror_mode": {
    "name": "ipython",
    "version": 3
   },
   "file_extension": ".py",
   "mimetype": "text/x-python",
   "name": "python",
   "nbconvert_exporter": "python",
   "pygments_lexer": "ipython3",
   "version": "3.9.6"
  }
 },
 "nbformat": 4,
 "nbformat_minor": 5
}